{
 "cells": [
  {
   "cell_type": "markdown",
   "metadata": {},
   "source": [
    "# 【自動控制】 單元二-控制系統的數學模型(I)：拉氏轉換"
   ]
  },
  {
   "cell_type": "markdown",
   "metadata": {},
   "source": [
    "- 葉明豐 Ming-Feng Yeh"
   ]
  },
  {
   "cell_type": "markdown",
   "metadata": {},
   "source": [
    "## 1. 使用 SymPy 作 Laplace Transform"
   ]
  },
  {
   "cell_type": "markdown",
   "metadata": {},
   "source": [
    "參考資料：\n",
    "- [Len Hou - Medium](https://medium.com/@chien.lun.hou) / [【控制系統1-1】利用SymPy作拉氏轉換代數運算](https://reurl.cc/Mvv9av)\n",
    "- [SymPy 1.5.1 documentation](https://docs.sympy.org/latest/index.html) / [Integrals](https://docs.sympy.org/latest/modules/integrals/integrals.html)"
   ]
  },
  {
   "cell_type": "markdown",
   "metadata": {},
   "source": [
    "## Laplace Transform 拉氏轉換\n",
    "Compute the Laplace Transform *F(s)* of *f(t)*: $\\mathscr{L}\\{f(t)\\} = F(s)$\n",
    "\n",
    "語法： **laplace_transform(f, t, s)**\n",
    "\n",
    "回傳值(return)： (F, a, cond)\n",
    "\n",
    "- *F* is the Laplace transform of *f*,\n",
    "- *operatorname{Re}(s) > a* is the half-plane of convergence, 收斂區域\n",
    "- *cond* are auxiliary convergence conditions. 輔助收斂條件"
   ]
  },
  {
   "cell_type": "markdown",
   "metadata": {},
   "source": [
    "從 SymPy 的 sympy.integrals 模組匯入 laplace_transform 方法"
   ]
  },
  {
   "cell_type": "code",
   "execution_count": 1,
   "metadata": {},
   "outputs": [],
   "source": [
    "from sympy.integrals import laplace_transform"
   ]
  },
  {
   "cell_type": "markdown",
   "metadata": {},
   "source": [
    "從 SymPy 匯入基本代數函數：\n",
    "- **exp** 代表以常數 *e* 為底數的自然對數，\n",
    "- **sin** 表示正弦函數，**cos** 表示餘弦函數，\n",
    "- **DiracDelta** 代表單位脈衝函數，\n",
    "- **Heaviside** 代表單位步階函數。"
   ]
  },
  {
   "cell_type": "code",
   "execution_count": 2,
   "metadata": {},
   "outputs": [],
   "source": [
    "from sympy import exp, sin, cos, DiracDelta, Heaviside"
   ]
  },
  {
   "cell_type": "markdown",
   "metadata": {},
   "source": [
    "從 sympy.abc 模組匯入函數的代數(即會使用到的變數)"
   ]
  },
  {
   "cell_type": "code",
   "execution_count": 3,
   "metadata": {},
   "outputs": [],
   "source": [
    "from sympy.abc import t, s, a, w"
   ]
  },
  {
   "cell_type": "markdown",
   "metadata": {},
   "source": [
    "讓方程式可以「正常化」顯示： **x^2 + 2*x + 3** 轉換成 $x^2 + 2x + 3$"
   ]
  },
  {
   "cell_type": "code",
   "execution_count": 4,
   "metadata": {},
   "outputs": [],
   "source": [
    "from sympy import init_printing\n",
    "init_printing(use_unicode=True)"
   ]
  },
  {
   "cell_type": "markdown",
   "metadata": {},
   "source": [
    "### 【例】計算 $sin(wt)$ 的拉氏轉換，即求 $\\mathscr{L}\\{\\sin(wt)\\} = ?$"
   ]
  },
  {
   "cell_type": "code",
   "execution_count": 5,
   "metadata": {},
   "outputs": [
    {
     "data": {
      "image/png": "[encoded data removed]",
      "text/latex": [
       "$\\displaystyle \\left( \\frac{w}{s^{2} + w^{2}}, \\  0, \\  2 \\left|{\\arg{\\left(w \\right)}}\\right| = 0\\right)$"
      ],
      "text/plain": [
       "⎛   w                      ⎞\n",
       "⎜───────, 0, 2⋅│arg(w)│ = 0⎟\n",
       "⎜ 2    2                   ⎟\n",
       "⎝s  + w                    ⎠"
      ]
     },
     "execution_count": 5,
     "metadata": {},
     "output_type": "execute_result"
    }
   ],
   "source": [
    "laplace_transform(sin(w*t), t, s)"
   ]
  },
  {
   "cell_type": "markdown",
   "metadata": {},
   "source": [
    "不顯示收斂區域的語法： laplace_transform(f, t, s)[0]"
   ]
  },
  {
   "cell_type": "code",
   "execution_count": 6,
   "metadata": {},
   "outputs": [
    {
     "data": {
      "image/png": "[encoded data removed]",
      "text/latex": [
       "$\\displaystyle \\frac{w}{s^{2} + w^{2}}$"
      ],
      "text/plain": [
       "   w   \n",
       "───────\n",
       " 2    2\n",
       "s  + w "
      ]
     },
     "execution_count": 6,
     "metadata": {},
     "output_type": "execute_result"
    }
   ],
   "source": [
    "laplace_transform(sin(w*t), t, s)[0]"
   ]
  },
  {
   "cell_type": "markdown",
   "metadata": {},
   "source": [
    "---"
   ]
  },
  {
   "cell_type": "markdown",
   "metadata": {},
   "source": [
    "## Inverse Laplace Transform 反拉氏轉換\n",
    "Compute the inverse Laplace Transform *f(t)* of *F(s)*: $\\mathscr{L}^{-1}\\{F(s)\\} = f(t)$\n",
    "\n",
    "語法： **inverse_laplace_transform(F, s, t)**\n",
    "\n",
    "回傳值： f"
   ]
  },
  {
   "cell_type": "markdown",
   "metadata": {},
   "source": [
    "從 SymPy 的 sympy.integrals.transforms 模組匯入 inverse_laplace_transform 方法"
   ]
  },
  {
   "cell_type": "code",
   "execution_count": 7,
   "metadata": {},
   "outputs": [],
   "source": [
    "from sympy.integrals.transforms import inverse_laplace_transform"
   ]
  },
  {
   "cell_type": "markdown",
   "metadata": {},
   "source": [
    "### 【例】計算 $\\frac{2}{s+1}$ 的反拉氏轉換，即求 $\\mathscr{L}^{-1}\\{\\frac{2}{s+1}\\} = ?$"
   ]
  },
  {
   "cell_type": "code",
   "execution_count": 8,
   "metadata": {},
   "outputs": [
    {
     "data": {
      "image/png": "[encoded data removed]",
      "text/latex": [
       "$\\displaystyle 2 e^{- t} \\theta\\left(t\\right)$"
      ],
      "text/plain": [
       "   -t     \n",
       "2⋅ℯ  ⋅θ(t)"
      ]
     },
     "execution_count": 8,
     "metadata": {},
     "output_type": "execute_result"
    }
   ],
   "source": [
    "inverse_laplace_transform(2/(s+1), s, t)"
   ]
  },
  {
   "cell_type": "markdown",
   "metadata": {},
   "source": [
    "### 【例】求 $\\mathscr{L}^{-1}\\{\\frac{1}{s^2+5^2}\\} = ?$"
   ]
  },
  {
   "cell_type": "code",
   "execution_count": 9,
   "metadata": {},
   "outputs": [
    {
     "data": {
      "image/png": "[encoded data removed]",
      "text/latex": [
       "$\\displaystyle \\frac{\\sin{\\left(5 t \\right)} \\theta\\left(t\\right)}{5}$"
      ],
      "text/plain": [
       "sin(5⋅t)⋅θ(t)\n",
       "─────────────\n",
       "      5      "
      ]
     },
     "execution_count": 9,
     "metadata": {},
     "output_type": "execute_result"
    }
   ],
   "source": [
    "inverse_laplace_transform(1/(s**2+5**2), s, t)"
   ]
  },
  {
   "cell_type": "markdown",
   "metadata": {},
   "source": [
    "### 【例】求 $\\mathscr{L}^{-1}\\{\\frac{w}{s^2+w^2}\\} = ?$ "
   ]
  },
  {
   "cell_type": "code",
   "execution_count": 10,
   "metadata": {},
   "outputs": [
    {
     "data": {
      "image/png": "[encoded data removed]",
      "text/latex": [
       "$\\displaystyle - \\frac{i \\left(i e^{2 t \\operatorname{im}{\\left(w\\right)}} \\sin{\\left(t \\operatorname{re}{\\left(w\\right)} \\right)} - e^{2 t \\operatorname{im}{\\left(w\\right)}} \\cos{\\left(t \\operatorname{re}{\\left(w\\right)} \\right)} + i \\sin{\\left(t \\operatorname{re}{\\left(w\\right)} \\right)} + \\cos{\\left(t \\operatorname{re}{\\left(w\\right)} \\right)}\\right) e^{- t \\operatorname{im}{\\left(w\\right)}} \\theta\\left(t\\right)}{2}$"
      ],
      "text/plain": [
       "   ⎛   2⋅t⋅im(w)                 2⋅t⋅im(w)                                    \n",
       "-ⅈ⋅⎝ⅈ⋅ℯ         ⋅sin(t⋅re(w)) - ℯ         ⋅cos(t⋅re(w)) + ⅈ⋅sin(t⋅re(w)) + cos\n",
       "──────────────────────────────────────────────────────────────────────────────\n",
       "                                                   2                          \n",
       "\n",
       "         ⎞  -t⋅im(w)      \n",
       "(t⋅re(w))⎠⋅ℯ        ⋅θ(t) \n",
       "──────────────────────────\n",
       "                          "
      ]
     },
     "execution_count": 10,
     "metadata": {},
     "output_type": "execute_result"
    }
   ],
   "source": [
    "inverse_laplace_transform(w/(s**2+w**2), s, t)"
   ]
  },
  {
   "cell_type": "markdown",
   "metadata": {},
   "source": [
    "自行驗證是否成立? $ -\\frac{1}{2}i[ie^{2jwt}sin(wt) - e^{2jwt}cos(wt) + isin(wt) + cos(wt)]e^{jwt} = sin(wt) $ "
   ]
  },
  {
   "cell_type": "markdown",
   "metadata": {},
   "source": [
    "***"
   ]
  },
  {
   "cell_type": "markdown",
   "metadata": {},
   "source": [
    "## 2. 利用 SymPy 作部分分式運算"
   ]
  },
  {
   "cell_type": "markdown",
   "metadata": {},
   "source": [
    "參考資料：\n",
    "- [Len Hou - Medium](https://medium.com/@chien.lun.hou) / [【控制系統1–2】利用SymPy作部分分式運算](https://reurl.cc/NjjdQe)\n",
    "- [SymPy 1.5.1 documentation](https://docs.sympy.org/latest/index.html) / [Simplification](https://docs.sympy.org/latest/tutorial/simplification.html)"
   ]
  },
  {
   "cell_type": "markdown",
   "metadata": {},
   "source": [
    "**apart()** performs a partial fraction decomposition on a rational function\n",
    "\n",
    "語法：**apart(expr)**\n",
    "- expr: expression of a rational function"
   ]
  },
  {
   "cell_type": "markdown",
   "metadata": {},
   "source": [
    "從 SymPy 匯入所有方法"
   ]
  },
  {
   "cell_type": "code",
   "execution_count": 11,
   "metadata": {},
   "outputs": [],
   "source": [
    "from sympy import *"
   ]
  },
  {
   "cell_type": "markdown",
   "metadata": {},
   "source": [
    "除了用**「從 sympy.abc 模組匯入函數的代數」**方式外，也可用 **x, y, z = symbols('x y z')** 的方式來匯入所需代數 。"
   ]
  },
  {
   "cell_type": "code",
   "execution_count": 12,
   "metadata": {},
   "outputs": [],
   "source": [
    "x, y, z = symbols('x y z')"
   ]
  },
  {
   "cell_type": "code",
   "execution_count": 13,
   "metadata": {},
   "outputs": [
    {
     "data": {
      "image/png": "[encoded data removed]",
      "text/latex": [
       "$\\displaystyle \\frac{2}{x^{3} + 3 x^{2} + 2 x}$"
      ],
      "text/plain": [
       "       2       \n",
       "───────────────\n",
       " 3      2      \n",
       "x  + 3⋅x  + 2⋅x"
      ]
     },
     "execution_count": 13,
     "metadata": {},
     "output_type": "execute_result"
    }
   ],
   "source": [
    "expr = 2/(x**3 + 3*x**2 + 2*x)\n",
    "expr"
   ]
  },
  {
   "cell_type": "code",
   "execution_count": 14,
   "metadata": {},
   "outputs": [
    {
     "data": {
      "image/png": "[encoded data removed]",
      "text/latex": [
       "$\\displaystyle \\frac{1}{x + 2} - \\frac{2}{x + 1} + \\frac{1}{x}$"
      ],
      "text/plain": [
       "  1       2     1\n",
       "───── - ───── + ─\n",
       "x + 2   x + 1   x"
      ]
     },
     "execution_count": 14,
     "metadata": {},
     "output_type": "execute_result"
    }
   ],
   "source": [
    "apart(expr)"
   ]
  },
  {
   "cell_type": "markdown",
   "metadata": {},
   "source": [
    "### 【例：僅有單階極點】$G(s) = \\frac{2}{s(s+1)(s+2)}$ ，求 $g(t) = \\mathscr{L}^{-1}\\{G(s)\\} = ?$"
   ]
  },
  {
   "cell_type": "code",
   "execution_count": 15,
   "metadata": {},
   "outputs": [
    {
     "data": {
      "image/png": "[encoded data removed]",
      "text/latex": [
       "$\\displaystyle \\frac{1}{s + 2} - \\frac{2}{s + 1} + \\frac{1}{s}$"
      ],
      "text/plain": [
       "  1       2     1\n",
       "───── - ───── + ─\n",
       "s + 2   s + 1   s"
      ]
     },
     "execution_count": 15,
     "metadata": {},
     "output_type": "execute_result"
    }
   ],
   "source": [
    "G1 = 2/(s*(s+1)*(s+2))\n",
    "G1_apart = apart(G1)\n",
    "G1_apart"
   ]
  },
  {
   "cell_type": "code",
   "execution_count": 16,
   "metadata": {},
   "outputs": [
    {
     "data": {
      "image/png": "[encoded data removed]",
      "text/latex": [
       "$\\displaystyle \\left(e^{2 t} - 2 e^{t} + 1\\right) e^{- 2 t} \\theta\\left(t\\right)$"
      ],
      "text/plain": [
       "⎛ 2⋅t      t    ⎞  -2⋅t     \n",
       "⎝ℯ    - 2⋅ℯ  + 1⎠⋅ℯ    ⋅θ(t)"
      ]
     },
     "execution_count": 16,
     "metadata": {},
     "output_type": "execute_result"
    }
   ],
   "source": [
    "inverse_laplace_transform(1/(s+2)-2/(s+1)+1/s, s, t)"
   ]
  },
  {
   "cell_type": "code",
   "execution_count": 17,
   "metadata": {},
   "outputs": [
    {
     "data": {
      "image/png": "[encoded data removed]",
      "text/latex": [
       "$\\displaystyle \\left(e^{2 t} - 2 e^{t} + 1\\right) e^{- 2 t} \\theta\\left(t\\right)$"
      ],
      "text/plain": [
       "⎛ 2⋅t      t    ⎞  -2⋅t     \n",
       "⎝ℯ    - 2⋅ℯ  + 1⎠⋅ℯ    ⋅θ(t)"
      ]
     },
     "execution_count": 17,
     "metadata": {},
     "output_type": "execute_result"
    }
   ],
   "source": [
    "inverse_laplace_transform(G1_apart, s, t)"
   ]
  },
  {
   "cell_type": "code",
   "execution_count": 18,
   "metadata": {},
   "outputs": [
    {
     "data": {
      "image/png": "[encoded data removed]",
      "text/latex": [
       "$\\displaystyle \\left(e^{2 t} - 2 e^{t} + 1\\right) e^{- 2 t} \\theta\\left(t\\right)$"
      ],
      "text/plain": [
       "⎛ 2⋅t      t    ⎞  -2⋅t     \n",
       "⎝ℯ    - 2⋅ℯ  + 1⎠⋅ℯ    ⋅θ(t)"
      ]
     },
     "execution_count": 18,
     "metadata": {},
     "output_type": "execute_result"
    }
   ],
   "source": [
    "inverse_laplace_transform(G1, s, t)"
   ]
  },
  {
   "cell_type": "markdown",
   "metadata": {},
   "source": [
    "### 【例：有多階極點】$G(s) = \\frac{s^2+2s+3}{(s+1)^3}$ ，求 $g(t) = \\mathscr{L}^{-1}\\{G(s)\\} = ?$"
   ]
  },
  {
   "cell_type": "code",
   "execution_count": 19,
   "metadata": {},
   "outputs": [
    {
     "data": {
      "image/png": "[encoded data removed]",
      "text/latex": [
       "$\\displaystyle \\frac{s^{2} + 2 s + 3}{\\left(s + 1\\right)^{3}}$"
      ],
      "text/plain": [
       " 2          \n",
       "s  + 2⋅s + 3\n",
       "────────────\n",
       "         3  \n",
       "  (s + 1)   "
      ]
     },
     "execution_count": 19,
     "metadata": {},
     "output_type": "execute_result"
    }
   ],
   "source": [
    "G2 = (s**2+2*s+3)/(s+1)**3\n",
    "G2"
   ]
  },
  {
   "cell_type": "code",
   "execution_count": 20,
   "metadata": {},
   "outputs": [
    {
     "data": {
      "image/png": "[encoded data removed]",
      "text/latex": [
       "$\\displaystyle \\frac{1}{s + 1} + \\frac{2}{\\left(s + 1\\right)^{3}}$"
      ],
      "text/plain": [
       "  1        2    \n",
       "───── + ────────\n",
       "s + 1          3\n",
       "        (s + 1) "
      ]
     },
     "execution_count": 20,
     "metadata": {},
     "output_type": "execute_result"
    }
   ],
   "source": [
    "G2_apart = apart(G2)\n",
    "G2_apart"
   ]
  },
  {
   "cell_type": "code",
   "execution_count": 21,
   "metadata": {},
   "outputs": [
    {
     "data": {
      "image/png": "[encoded data removed]",
      "text/latex": [
       "$\\displaystyle \\left(t^{2} + 1\\right) e^{- t} \\theta\\left(t\\right)$"
      ],
      "text/plain": [
       "⎛ 2    ⎞  -t     \n",
       "⎝t  + 1⎠⋅ℯ  ⋅θ(t)"
      ]
     },
     "execution_count": 21,
     "metadata": {},
     "output_type": "execute_result"
    }
   ],
   "source": [
    "inverse_laplace_transform(G2_apart, s, t)"
   ]
  },
  {
   "cell_type": "markdown",
   "metadata": {},
   "source": [
    "### 【例2-2：共軛複數根】$G(s) = \\frac{2s+12}{s^2+2s+5}$ ，求 $g(t) = \\mathscr{L}^{-1}\\{G(s)\\} = ?$"
   ]
  },
  {
   "cell_type": "code",
   "execution_count": 22,
   "metadata": {},
   "outputs": [
    {
     "data": {
      "image/png": "[encoded data removed]",
      "text/latex": [
       "$\\displaystyle \\frac{2 \\left(s + 6\\right)}{s^{2} + 2 s + 5}$"
      ],
      "text/plain": [
       " 2⋅(s + 6)  \n",
       "────────────\n",
       " 2          \n",
       "s  + 2⋅s + 5"
      ]
     },
     "execution_count": 22,
     "metadata": {},
     "output_type": "execute_result"
    }
   ],
   "source": [
    "G3 = (2*s+12)/(s**2+2*s+5)\n",
    "G3_apart = apart(G3)\n",
    "G3_apart"
   ]
  },
  {
   "cell_type": "code",
   "execution_count": 23,
   "metadata": {},
   "outputs": [
    {
     "data": {
      "image/png": "[encoded data removed]",
      "text/latex": [
       "$\\displaystyle \\left(5 \\sin{\\left(2 t \\right)} + 2 \\cos{\\left(2 t \\right)}\\right) e^{- t} \\theta\\left(t\\right)$"
      ],
      "text/plain": [
       "                           -t     \n",
       "(5⋅sin(2⋅t) + 2⋅cos(2⋅t))⋅ℯ  ⋅θ(t)"
      ]
     },
     "execution_count": 23,
     "metadata": {},
     "output_type": "execute_result"
    }
   ],
   "source": [
    "inverse_laplace_transform(G3_apart, s, t)"
   ]
  },
  {
   "cell_type": "markdown",
   "metadata": {},
   "source": [
    "## 練習題：求【例2-3】的部分分數展開"
   ]
  },
  {
   "cell_type": "markdown",
   "metadata": {},
   "source": [
    "### 【例2-3】$ \\frac{B(s)}{A(s)} = \\frac{2s^3+5s^2+3s+6}{s^3+6s^2+11s+6}$ "
   ]
  },
  {
   "cell_type": "markdown",
   "metadata": {},
   "source": [
    "## 極點的影響"
   ]
  },
  {
   "cell_type": "code",
   "execution_count": 24,
   "metadata": {},
   "outputs": [],
   "source": [
    "import numpy as np\n",
    "import matplotlib.pylab as plt\n",
    "x = np.arange(0, 10, 0.1)"
   ]
  },
  {
   "cell_type": "markdown",
   "metadata": {},
   "source": [
    "### 【極點均在左半平面】$\\mathscr{L}^{-1}\\{\\frac{1}{(s+1)(s+2)}\\} = e^{-t}-e^{-2t}$"
   ]
  },
  {
   "cell_type": "code",
   "execution_count": 25,
   "metadata": {},
   "outputs": [
    {
     "data": {
      "text/plain": [
       "[<matplotlib.lines.Line2D at 0x14e03d75a88>]"
      ]
     },
     "execution_count": 25,
     "metadata": {},
     "output_type": "execute_result"
    },
    {
     "data": {
      "image/png": "[encoded data removed]",
      "text/plain": [
       "<Figure size 432x288 with 1 Axes>"
      ]
     },
     "metadata": {
      "needs_background": "light"
     },
     "output_type": "display_data"
    }
   ],
   "source": [
    "y1 = np.exp(-x) - np.exp(-2*x)\n",
    "plt.plot(x,y1)"
   ]
  },
  {
   "cell_type": "markdown",
   "metadata": {},
   "source": [
    "### 【有落在虛軸上的極點】$\\mathscr{L}^{-1}\\{\\frac{2}{s(s+2)}\\} = 1-e^{-2t}$"
   ]
  },
  {
   "cell_type": "code",
   "execution_count": 26,
   "metadata": {},
   "outputs": [
    {
     "data": {
      "text/plain": [
       "[<matplotlib.lines.Line2D at 0x14e03e73a08>]"
      ]
     },
     "execution_count": 26,
     "metadata": {},
     "output_type": "execute_result"
    },
    {
     "data": {
      "image/png": "[encoded data removed]",
      "text/plain": [
       "<Figure size 432x288 with 1 Axes>"
      ]
     },
     "metadata": {
      "needs_background": "light"
     },
     "output_type": "display_data"
    }
   ],
   "source": [
    "y2 = 1 - np.exp(-2*x)\n",
    "plt.plot(x,y2)"
   ]
  },
  {
   "cell_type": "markdown",
   "metadata": {},
   "source": [
    "### 【有落在右半平面的極點】$\\mathscr{L}^{-1}\\{\\frac{3}{(s-1)(s+2)}\\} = e^{t}-e^{-2t}$"
   ]
  },
  {
   "cell_type": "code",
   "execution_count": 27,
   "metadata": {},
   "outputs": [
    {
     "data": {
      "text/plain": [
       "[<matplotlib.lines.Line2D at 0x14e03ee1ac8>]"
      ]
     },
     "execution_count": 27,
     "metadata": {},
     "output_type": "execute_result"
    },
    {
     "data": {
      "image/png": "[encoded data removed]",
      "text/plain": [
       "<Figure size 432x288 with 1 Axes>"
      ]
     },
     "metadata": {
      "needs_background": "light"
     },
     "output_type": "display_data"
    }
   ],
   "source": [
    "y3 = np.exp(x) - np.exp(-2*x)\n",
    "plt.plot(x,y3)"
   ]
  },
  {
   "cell_type": "markdown",
   "metadata": {},
   "source": [
    "### 【共軛複數根】$\\mathscr{L}^{-1}\\{\\frac{2s+12}{s^2+2s+5}\\} = 5sin(2t)+2cos(2t)$"
   ]
  },
  {
   "cell_type": "code",
   "execution_count": 28,
   "metadata": {},
   "outputs": [
    {
     "data": {
      "text/plain": [
       "[<matplotlib.lines.Line2D at 0x14e03f570c8>]"
      ]
     },
     "execution_count": 28,
     "metadata": {},
     "output_type": "execute_result"
    },
    {
     "data": {
      "image/png": "[encoded data removed]",
      "text/plain": [
       "<Figure size 432x288 with 1 Axes>"
      ]
     },
     "metadata": {
      "needs_background": "light"
     },
     "output_type": "display_data"
    }
   ],
   "source": [
    "y4 = 5*np.sin(2*x) + 2*np.cos(2*x)\n",
    "plt.plot(x,y4)"
   ]
  },
  {
   "cell_type": "code",
   "execution_count": 29,
   "metadata": {},
   "outputs": [
    {
     "data": {
      "image/png": "[encoded data removed]",
      "text/latex": [
       "$\\displaystyle - \\frac{1}{s + 3} + \\frac{1}{s + 2}$"
      ],
      "text/plain": [
       "    1       1  \n",
       "- ───── + ─────\n",
       "  s + 3   s + 2"
      ]
     },
     "execution_count": 29,
     "metadata": {},
     "output_type": "execute_result"
    }
   ],
   "source": [
    "apart(1/((s**2+5*s+6)))"
   ]
  },
  {
   "cell_type": "code",
   "execution_count": 30,
   "metadata": {},
   "outputs": [
    {
     "data": {
      "image/png": "[encoded data removed]",
      "text/plain": [
       "<Figure size 432x288 with 1 Axes>"
      ]
     },
     "metadata": {
      "needs_background": "light"
     },
     "output_type": "display_data"
    }
   ],
   "source": [
    "import numpy as np\n",
    "import matplotlib.pylab as plt\n",
    "x = np.arange(0, 10, 0.1)\n",
    "y = ( 2*np.exp(x) - 1) * np.exp(-2*x)\n",
    "plt.plot(x,y)\n",
    "plt.show()"
   ]
  },
  {
   "cell_type": "code",
   "execution_count": 31,
   "metadata": {},
   "outputs": [
    {
     "data": {
      "text/plain": [
       "[<matplotlib.lines.Line2D at 0x14e03fc8388>]"
      ]
     },
     "execution_count": 31,
     "metadata": {},
     "output_type": "execute_result"
    },
    {
     "data": {
      "image/png": "[encoded data removed]",
      "text/plain": [
       "<Figure size 432x288 with 1 Axes>"
      ]
     },
     "metadata": {
      "needs_background": "light"
     },
     "output_type": "display_data"
    }
   ],
   "source": [
    "y5 = (5*np.sin(2*x) + 2*np.cos(2*x))*np.exp(-x)\n",
    "plt.plot(x,y5)"
   ]
  },
  {
   "cell_type": "code",
   "execution_count": null,
   "metadata": {},
   "outputs": [],
   "source": []
  }
 ],
 "metadata": {
  "kernelspec": {
   "display_name": "Python 3",
   "language": "python",
   "name": "python3"
  },
  "language_info": {
   "codemirror_mode": {
    "name": "ipython",
    "version": 3
   },
   "file_extension": ".py",
   "mimetype": "text/x-python",
   "name": "python",
   "nbconvert_exporter": "python",
   "pygments_lexer": "ipython3",
   "version": "3.7.6"
  }
 },
 "nbformat": 4,
 "nbformat_minor": 4
}
