{
 "cells": [
  {
   "cell_type": "markdown",
   "metadata": {},
   "source": [
    "# 【自動控制】 單元二(補充-2)-二階電路"
   ]
  },
  {
   "cell_type": "markdown",
   "metadata": {},
   "source": [
    "- 葉明豐 Ming-Feng Yeh"
   ]
  },
  {
   "cell_type": "markdown",
   "metadata": {},
   "source": [
    "## 二階電路"
   ]
  },
  {
   "cell_type": "markdown",
   "metadata": {},
   "source": [
    "### 標準式： $y^{''}(t) + 2\\xi \\omega_n y^{'}(t) + \\omega_n^2y(t) = f(t)$"
   ]
  },
  {
   "cell_type": "markdown",
   "metadata": {},
   "source": [
    "特徵方程式： $s^2 + 2\\xi \\omega_n s + \\omega_n^2 = 0 \\Rightarrow s = -\\xi \\omega_n \\pm \\sqrt{\\xi^2 - 1}$"
   ]
  },
  {
   "cell_type": "markdown",
   "metadata": {},
   "source": [
    "語法： **result = dslove(Eq(expression,0), y(x), ics=None)**\n",
    "- Eq(,)：轉換成方程式(等號左邊 = 等號右邊)，即 expression = 0\n",
    "- expression：微分方程式(等號左邊)，例：$y^{''}(x) + 6y^{'}(x) + 5y(x)$\n",
    "- 0：齊次項(等號右邊)\n",
    "\n",
    "初始條件：\n",
    "$f(x0) = x1, f^{'}(x2) = x3$ 為 **ics={f(x0):x1, f(x).diff(x).subs(x,x2):x3}**                                            \n",
    "                                            \n",
    "微分表達式：\n",
    "- $y^{(n)}(x)$ 的表示法為 **y(x).diff(x,n)** 或 **diff(y(x),x,n)**\n",
    "- $y^{''}(x)$ 的表示法：**y(x).diff(x,2)**、**y(x).diff(x,x)** 或 **diff(y(x),x,2)**\n",
    "- $y^{'}(x) $ 的表示法為：**y(x).diff(x)** 或 **diff(y(x),x)**       "
   ]
  },
  {
   "cell_type": "markdown",
   "metadata": {},
   "source": [
    "### 1.無阻尼自然響應：$\\xi = 0$"
   ]
  },
  {
   "cell_type": "markdown",
   "metadata": {},
   "source": [
    "$y^{''}(t) + 4y(t) = 0, y(0)=2, y^{'}(0)=2$"
   ]
  },
  {
   "cell_type": "code",
   "execution_count": null,
   "metadata": {},
   "outputs": [],
   "source": [
    "from sympy import *\n",
    "import numpy as np\n",
    "import matplotlib.pyplot as plt"
   ]
  },
  {
   "cell_type": "code",
   "execution_count": null,
   "metadata": {},
   "outputs": [],
   "source": [
    "t = symbols('t')\n",
    "y = symbols('y', cls=Function)"
   ]
  },
  {
   "cell_type": "code",
   "execution_count": null,
   "metadata": {},
   "outputs": [],
   "source": [
    "expr1 = y(t).diff(t,2) + 4*y(t)\n",
    "result = dsolve(Eq(expr1,0), y(t), ics={y(0):2, y(t).diff(t).subs(t,0):2})\n",
    "print(result)"
   ]
  },
  {
   "cell_type": "code",
   "execution_count": null,
   "metadata": {},
   "outputs": [],
   "source": [
    "x = np.arange(0, 10, 0.1)\n",
    "y1 = np.sin(2*x) + 2*np.cos(2*x)"
   ]
  },
  {
   "cell_type": "code",
   "execution_count": null,
   "metadata": {},
   "outputs": [],
   "source": [
    "plt.plot(x,y1)\n",
    "plt.xlabel('t')\n",
    "plt.ylabel('y')\n",
    "plt.show()"
   ]
  },
  {
   "cell_type": "markdown",
   "metadata": {},
   "source": [
    "### 2.欠阻尼自然響應：$0 < \\xi < 1$"
   ]
  },
  {
   "cell_type": "markdown",
   "metadata": {},
   "source": [
    "$y^{''}(t) + 2y^{'}(t) + 10y(t) = 0, y(0)=2, y^{'}(0)=1$"
   ]
  },
  {
   "cell_type": "code",
   "execution_count": null,
   "metadata": {},
   "outputs": [],
   "source": [
    "expr2 = y(t).diff(t,2) + 2*y(t).diff(t) + 10*y(t)\n",
    "result = dsolve(Eq(expr2,0), y(t), ics={y(0):2, y(t).diff(t).subs(t,0):1})\n",
    "print(result)"
   ]
  },
  {
   "cell_type": "code",
   "execution_count": null,
   "metadata": {},
   "outputs": [],
   "source": [
    "y2 = np.exp(-x) * (np.sin(3*x)+2*np.cos(3*x))\n",
    "plt.plot(x,y2)\n",
    "plt.xlabel('t')\n",
    "plt.ylabel('y')\n",
    "plt.show()"
   ]
  },
  {
   "cell_type": "markdown",
   "metadata": {},
   "source": [
    "### 3.臨界阻尼自然響應：$ \\xi = 1$"
   ]
  },
  {
   "cell_type": "markdown",
   "metadata": {},
   "source": [
    "$y^{''}(t) + 4y^{'}(t) + 4y(t) = 0, y(0)=1, y^{'}(0)=1$"
   ]
  },
  {
   "cell_type": "code",
   "execution_count": null,
   "metadata": {},
   "outputs": [],
   "source": [
    "expr3 = y(t).diff(t,2) + 4*y(t).diff(t) + 4*y(t)\n",
    "result = dsolve(Eq(expr3,0), y(t), ics={y(0):1, y(t).diff(t).subs(t,0):1})\n",
    "print(result)"
   ]
  },
  {
   "cell_type": "code",
   "execution_count": null,
   "metadata": {},
   "outputs": [],
   "source": [
    "y3 = (1+3*x) * np.exp(-2*x)\n",
    "plt.plot(x,y3)\n",
    "plt.xlabel('t')\n",
    "plt.ylabel('y')\n",
    "plt.show()"
   ]
  },
  {
   "cell_type": "markdown",
   "metadata": {},
   "source": [
    "### 4.過阻尼自然響應：$ \\xi > 1$"
   ]
  },
  {
   "cell_type": "markdown",
   "metadata": {},
   "source": [
    "$y^{''}(t) + 6y^{'}(t) + 8y(t) = 0, y(0)=1, y^{'}(0)=0$"
   ]
  },
  {
   "cell_type": "code",
   "execution_count": null,
   "metadata": {},
   "outputs": [],
   "source": [
    "expr4 = y(t).diff(t,2) + 6*y(t).diff(t) + 8*y(t)\n",
    "result = dsolve(Eq(expr4,0), y(t), ics={y(0):1, y(t).diff(t).subs(t,0):0})\n",
    "print(result)"
   ]
  },
  {
   "cell_type": "code",
   "execution_count": null,
   "metadata": {},
   "outputs": [],
   "source": [
    "y4 = 2*np.exp(-2*x) - np.exp(-4*x)\n",
    "plt.plot(x,y4)\n",
    "plt.xlabel('t')\n",
    "plt.ylabel('y')\n",
    "plt.show()"
   ]
  },
  {
   "cell_type": "markdown",
   "metadata": {},
   "source": [
    "## 步階響應： $y^{''}(t) + 2\\xi \\omega_n y^{'}(t) + \\omega_n^2y(t) = V_s, y(0)=0, y^{'}(0)=0$"
   ]
  },
  {
   "cell_type": "markdown",
   "metadata": {},
   "source": [
    "### 1.無阻尼系統：$\\xi = 0 \\Rightarrow y^{''}(t) + 4y(t) = 5$"
   ]
  },
  {
   "cell_type": "code",
   "execution_count": null,
   "metadata": {},
   "outputs": [],
   "source": [
    "sys1 = y(t).diff(t,2) + 4*y(t)\n",
    "result = dsolve(Eq(sys1,5), y(t), ics={y(0):0, y(t).diff(t).subs(t,0):0})\n",
    "print(result)"
   ]
  },
  {
   "cell_type": "code",
   "execution_count": null,
   "metadata": {},
   "outputs": [],
   "source": [
    "out1 = 5/4 - 5*np.cos(2*x)/4\n",
    "plt.plot(x,out1)\n",
    "plt.xlabel('t')\n",
    "plt.ylabel('y')\n",
    "plt.show()"
   ]
  },
  {
   "cell_type": "markdown",
   "metadata": {},
   "source": [
    "### 2.欠阻尼系統：$0 < \\xi < 1 \\Rightarrow y^{''}(t) + 2y^{'}(t) + 10y(t) = 10$"
   ]
  },
  {
   "cell_type": "code",
   "execution_count": null,
   "metadata": {},
   "outputs": [],
   "source": [
    "sys2 = y(t).diff(t,2) + 2*y(t).diff(t) + 10*y(t)\n",
    "result = dsolve(Eq(sys2,10), y(t), ics={y(0):0, y(t).diff(t).subs(t,0):0})\n",
    "print(result)"
   ]
  },
  {
   "cell_type": "code",
   "execution_count": null,
   "metadata": {},
   "outputs": [],
   "source": [
    "out2 = (-np.sin(3*x)/3 - np.cos(3*x))*np.exp(-x) + 1\n",
    "plt.plot(x,out2)\n",
    "plt.xlabel('t')\n",
    "plt.ylabel('y')\n",
    "plt.show()"
   ]
  },
  {
   "cell_type": "markdown",
   "metadata": {},
   "source": [
    "### 3.臨界阻尼系統：$ \\xi = 1 \\Rightarrow y^{''}(t) + 4y^{'}(t) + 4y(t) = 8$"
   ]
  },
  {
   "cell_type": "code",
   "execution_count": null,
   "metadata": {},
   "outputs": [],
   "source": [
    "sys3 = y(t).diff(t,2) + 4*y(t).diff(t) + 4*y(t)\n",
    "result = dsolve(Eq(sys3,8), y(t), ics={y(0):0, y(t).diff(t).subs(t,0):0})\n",
    "print(result)"
   ]
  },
  {
   "cell_type": "code",
   "execution_count": null,
   "metadata": {},
   "outputs": [],
   "source": [
    "out3 = (-4*x -2)*np.exp(-2*x) + 2\n",
    "plt.plot(x,out3)\n",
    "plt.xlabel('t')\n",
    "plt.ylabel('y')\n",
    "plt.show()"
   ]
  },
  {
   "cell_type": "markdown",
   "metadata": {},
   "source": [
    "### 4.過阻尼系統：$ \\xi > 1 \\Rightarrow y^{''}(t) + 6y^{'}(t) + 8y(t) = 8$"
   ]
  },
  {
   "cell_type": "code",
   "execution_count": null,
   "metadata": {},
   "outputs": [],
   "source": [
    "sys4 = y(t).diff(t,2) + 6*y(t).diff(t) + 8*y(t)\n",
    "result = dsolve(Eq(sys4,8), y(t), ics={y(0):0, y(t).diff(t).subs(t,0):0})\n",
    "print(result)"
   ]
  },
  {
   "cell_type": "code",
   "execution_count": null,
   "metadata": {},
   "outputs": [],
   "source": [
    "out4 = 1 - 2*np.exp(-2*x) + np.exp(-4*x)\n",
    "plt.plot(x,out4)\n",
    "plt.xlabel('t')\n",
    "plt.ylabel('y')\n",
    "plt.show()"
   ]
  },
  {
   "cell_type": "code",
   "execution_count": null,
   "metadata": {},
   "outputs": [],
   "source": []
  }
 ],
 "metadata": {
  "kernelspec": {
   "display_name": "Python 3",
   "language": "python",
   "name": "python3"
  },
  "language_info": {
   "codemirror_mode": {
    "name": "ipython",
    "version": 3
   },
   "file_extension": ".py",
   "mimetype": "text/x-python",
   "name": "python",
   "nbconvert_exporter": "python",
   "pygments_lexer": "ipython3",
   "version": "3.7.6"
  }
 },
 "nbformat": 4,
 "nbformat_minor": 4
}
