{
 "cells": [
  {
   "cell_type": "markdown",
   "metadata": {},
   "source": [
    "# 【自動控制】 單元二(補充-1)-微分方程,一階RC電路"
   ]
  },
  {
   "cell_type": "markdown",
   "metadata": {},
   "source": [
    "- 葉明豐 Ming-Feng Yeh"
   ]
  },
  {
   "cell_type": "markdown",
   "metadata": {},
   "source": [
    "## 1.使用 SymPy 解微分方程式"
   ]
  },
  {
   "cell_type": "markdown",
   "metadata": {},
   "source": [
    "參考資料：\n",
    "- [用Python來學高數？解方程組？簡直不敢相信！簡直不可思議！](https://kknews.cc/code/3b46eqg.html)\n",
    "- [Python解微分方程](https://www.itread01.com/content/1527069498.html)"
   ]
  },
  {
   "cell_type": "markdown",
   "metadata": {},
   "source": [
    "使用 dslove() 函數來解微分方程式"
   ]
  },
  {
   "cell_type": "markdown",
   "metadata": {},
   "source": [
    "從 SymPy 匯入所有模組"
   ]
  },
  {
   "cell_type": "code",
   "execution_count": 1,
   "metadata": {},
   "outputs": [],
   "source": [
    "from sympy import *"
   ]
  },
  {
   "cell_type": "markdown",
   "metadata": {},
   "source": [
    "讓方程式可以「正常化」顯示： **x^2 + 2*x + 3** 轉換成 $x^2 + 2x + 3$"
   ]
  },
  {
   "cell_type": "code",
   "execution_count": 2,
   "metadata": {},
   "outputs": [],
   "source": [
    "from sympy import init_printing\n",
    "init_printing(use_unicode=True)"
   ]
  },
  {
   "cell_type": "markdown",
   "metadata": {},
   "source": [
    "初始化：\n",
    "- 變數：x, y, z = symbols('x y ')\n",
    "- 函數：f, g, h = symbols('f g h', cls=Function) 或 f = Function('f') [後者只能宣告一個函數]"
   ]
  },
  {
   "cell_type": "code",
   "execution_count": 3,
   "metadata": {},
   "outputs": [],
   "source": [
    "x = symbols('x')\n",
    "y = symbols('y', cls=Function)"
   ]
  },
  {
   "cell_type": "markdown",
   "metadata": {},
   "source": [
    "表達式：\n",
    "- $y^{(n)}(x)$ 的表示法為 **y(x).diff(x,n)** 或 **diff(y(x),x,n)**\n",
    "- $y^{''}(x)$ 的表示法：**y(x).diff(x,2)**、**y(x).diff(x,x)** 或 **diff(y(x),x,2)**\n",
    "- $y^{'}(x) $ 的表示法為：**y(x).diff(x)** 或 **diff(y(x),x)**"
   ]
  },
  {
   "cell_type": "markdown",
   "metadata": {},
   "source": [
    "### 常係數齊次微分方程式：$y^{''}(x) + 6y^{'}(x) + 5y(x) = 0$"
   ]
  },
  {
   "cell_type": "markdown",
   "metadata": {},
   "source": [
    "語法： **result = dslove(Eq(expression,0), y(x))**\n",
    "- Eq(,)：轉換成方程式(等號左邊 = 等號右邊)，即 expression = 0\n",
    "- expression：微分方程式(等號左邊)，例：$y^{''}(x) + 6y^{'}(x) + 5y(x)$\n",
    "- 0：齊次項(等號右邊)                                         "
   ]
  },
  {
   "cell_type": "code",
   "execution_count": 4,
   "metadata": {},
   "outputs": [],
   "source": [
    "expr1 = diff(y(x),x,2) + 6*diff(y(x),x) + 5*y(x)"
   ]
  },
  {
   "cell_type": "code",
   "execution_count": 5,
   "metadata": {},
   "outputs": [
    {
     "name": "stdout",
     "output_type": "stream",
     "text": [
      "Eq(y(x), (C1 + C2*exp(-4*x))*exp(-x))\n"
     ]
    }
   ],
   "source": [
    "result = dsolve(Eq(expr1,0), y(x))\n",
    "print(result)"
   ]
  },
  {
   "cell_type": "code",
   "execution_count": 6,
   "metadata": {},
   "outputs": [],
   "source": [
    "expr2 = y(x).diff(x,2) + 6*y(x).diff(x) + 5*y(x)"
   ]
  },
  {
   "cell_type": "code",
   "execution_count": 7,
   "metadata": {},
   "outputs": [
    {
     "name": "stdout",
     "output_type": "stream",
     "text": [
      "Eq(y(x), (C1 + C2*exp(-4*x))*exp(-x))\n"
     ]
    }
   ],
   "source": [
    "result = dsolve(Eq(expr2,0), y(x))\n",
    "print(result)"
   ]
  },
  {
   "cell_type": "markdown",
   "metadata": {},
   "source": [
    "### 初始條件"
   ]
  },
  {
   "cell_type": "markdown",
   "metadata": {},
   "source": [
    "語法： $f(x0) = x1, f^{'}(x2) = x3$ 為 **ics={f(x0):x1, f(x).diff(x).subs(x,x2):x3}**"
   ]
  },
  {
   "cell_type": "markdown",
   "metadata": {},
   "source": [
    "例：$y^{''}(x) + 6y^{'}(x) + 5y(x) = 0, y(0)=3, y^{'}(0)=-1$"
   ]
  },
  {
   "cell_type": "code",
   "execution_count": 8,
   "metadata": {},
   "outputs": [
    {
     "name": "stdout",
     "output_type": "stream",
     "text": [
      "Eq(y(x), (7/2 - exp(-4*x)/2)*exp(-x))\n"
     ]
    }
   ],
   "source": [
    "expr3 = y(x).diff(x,2) + 6*y(x).diff(x) + 5*y(x)\n",
    "result = dsolve(Eq(expr3,0), y(x), ics={y(0):3, y(x).diff(x).subs(x,0):-1})\n",
    "print(result)"
   ]
  },
  {
   "cell_type": "markdown",
   "metadata": {},
   "source": [
    "### 常係數非齊次微分方程式：$y^{''}(x) + y(x) = cos(x)$"
   ]
  },
  {
   "cell_type": "markdown",
   "metadata": {},
   "source": [
    "語法： **result = dslove(Eq(expression,f(x)), y(x))**\n",
    "- Eq(,)：轉換成方程式(等號左邊 = 等號右邊)，即 expression = f(x)\n",
    "- expression：微分方程式(等號左邊)，例：$y^{''}(x) + y(x)$\n",
    "- f(x)：非齊次項(等號右邊)，例：f(x) = cos(x) "
   ]
  },
  {
   "cell_type": "code",
   "execution_count": 9,
   "metadata": {},
   "outputs": [],
   "source": [
    "expr4 = diff(y(x),x,2) + y(x)"
   ]
  },
  {
   "cell_type": "code",
   "execution_count": 10,
   "metadata": {},
   "outputs": [
    {
     "name": "stdout",
     "output_type": "stream",
     "text": [
      "Eq(y(x), C2*cos(x) + (C1 + x/2)*sin(x))\n"
     ]
    }
   ],
   "source": [
    "result = dsolve(Eq(expr4,cos(x)), y(x))\n",
    "print(result)"
   ]
  },
  {
   "cell_type": "markdown",
   "metadata": {},
   "source": [
    "## 2.一階 RC 串聯電路："
   ]
  },
  {
   "cell_type": "markdown",
   "metadata": {},
   "source": [
    "$R = 200k\\Omega, C = 1\\mu F, \\tau = RC, T = \\frac{1}{\\tau}$"
   ]
  },
  {
   "cell_type": "code",
   "execution_count": 11,
   "metadata": {},
   "outputs": [],
   "source": [
    "R = 200*(10**3)\n",
    "C = 1*10**(-6)\n",
    "T = 1/(R*C)"
   ]
  },
  {
   "cell_type": "markdown",
   "metadata": {},
   "source": [
    "## $v^{'}(t) + \\frac{1}{RC}v(t) = \\frac{1}{RC}f(t)$"
   ]
  },
  {
   "cell_type": "code",
   "execution_count": 12,
   "metadata": {},
   "outputs": [],
   "source": [
    "t = symbols('t')\n",
    "v = symbols('v', cls=Function)\n",
    "expr = v(t).diff(t) + T*v(t)"
   ]
  },
  {
   "cell_type": "markdown",
   "metadata": {},
   "source": [
    "零輸入響應：$f(t) = 0, v(0) = 10$"
   ]
  },
  {
   "cell_type": "code",
   "execution_count": 13,
   "metadata": {},
   "outputs": [
    {
     "name": "stdout",
     "output_type": "stream",
     "text": [
      "Eq(v(t), 10*exp(-5.0*t))\n"
     ]
    }
   ],
   "source": [
    "v1 = dsolve(Eq(expr,0), v(t), ics={v(0):10})\n",
    "print(v1)"
   ]
  },
  {
   "cell_type": "markdown",
   "metadata": {},
   "source": [
    "零態響應：$f(t) = 5, v(0) = 0$"
   ]
  },
  {
   "cell_type": "code",
   "execution_count": 14,
   "metadata": {},
   "outputs": [
    {
     "name": "stdout",
     "output_type": "stream",
     "text": [
      "Eq(v(t), 5.0 - 5.0*exp(-5.0*t))\n"
     ]
    }
   ],
   "source": [
    "v2 = dsolve(Eq(expr,T*5), v(t), ics={v(0):0})\n",
    "print(v2)"
   ]
  },
  {
   "cell_type": "markdown",
   "metadata": {},
   "source": [
    "完全響應 = 零輸入響應 + 零態響應"
   ]
  },
  {
   "cell_type": "code",
   "execution_count": 15,
   "metadata": {},
   "outputs": [
    {
     "name": "stdout",
     "output_type": "stream",
     "text": [
      "Eq(v(t), 5.0 + 5.0*exp(-5.0*t))\n"
     ]
    }
   ],
   "source": [
    "v_total = dsolve(Eq(expr,T*5), v(t), ics={v(0):10})\n",
    "print(v_total)"
   ]
  },
  {
   "cell_type": "markdown",
   "metadata": {},
   "source": [
    "## $RCv^{'}(t) + v(t) = f(t)$"
   ]
  },
  {
   "cell_type": "code",
   "execution_count": 16,
   "metadata": {},
   "outputs": [],
   "source": [
    "expr = (R*C)*v(t).diff(t) + v(t)"
   ]
  },
  {
   "cell_type": "markdown",
   "metadata": {},
   "source": [
    "零輸入響應：$f(t) = 0, v(0) = 10$"
   ]
  },
  {
   "cell_type": "code",
   "execution_count": 17,
   "metadata": {},
   "outputs": [
    {
     "name": "stdout",
     "output_type": "stream",
     "text": [
      "Eq(v(t), 10*exp(-5.0*t))\n"
     ]
    }
   ],
   "source": [
    "v1 = dsolve(Eq(expr,0), v(t), ics={v(0):10})\n",
    "print(v1)"
   ]
  },
  {
   "cell_type": "markdown",
   "metadata": {},
   "source": [
    "零態響應：$f(t) = 5, v(0) = 0$"
   ]
  },
  {
   "cell_type": "code",
   "execution_count": 18,
   "metadata": {},
   "outputs": [
    {
     "name": "stdout",
     "output_type": "stream",
     "text": [
      "Eq(v(t), 5.0 - 5.0*exp(-5.0*t))\n"
     ]
    }
   ],
   "source": [
    "v2 = dsolve(Eq(expr,5), v(t), ics={v(0):0})\n",
    "print(v2)"
   ]
  },
  {
   "cell_type": "markdown",
   "metadata": {},
   "source": [
    "完全響應 = 零輸入響應 + 零態響應"
   ]
  },
  {
   "cell_type": "code",
   "execution_count": 19,
   "metadata": {},
   "outputs": [
    {
     "name": "stdout",
     "output_type": "stream",
     "text": [
      "Eq(v(t), 5.0 + 5.0*exp(-5.0*t))\n"
     ]
    }
   ],
   "source": [
    "v_total = dsolve(Eq(expr,5), v(t), ics={v(0):10})\n",
    "print(v_total)"
   ]
  },
  {
   "cell_type": "code",
   "execution_count": null,
   "metadata": {},
   "outputs": [],
   "source": []
  }
 ],
 "metadata": {
  "kernelspec": {
   "display_name": "Python 3",
   "language": "python",
   "name": "python3"
  },
  "language_info": {
   "codemirror_mode": {
    "name": "ipython",
    "version": 3
   },
   "file_extension": ".py",
   "mimetype": "text/x-python",
   "name": "python",
   "nbconvert_exporter": "python",
   "pygments_lexer": "ipython3",
   "version": "3.7.6"
  }
 },
 "nbformat": 4,
 "nbformat_minor": 4
}
