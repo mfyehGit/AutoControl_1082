{
 "cells": [
  {
   "cell_type": "markdown",
   "metadata": {},
   "source": [
    "# 【自動控制】 單元二-控制系統的數學模型(II)：自動控制系統"
   ]
  },
  {
   "cell_type": "markdown",
   "metadata": {},
   "source": [
    "- 葉明豐 Ming-Feng Yeh"
   ]
  },
  {
   "cell_type": "markdown",
   "metadata": {},
   "source": [
    "## 1. Python Control Systems Library"
   ]
  },
  {
   "cell_type": "markdown",
   "metadata": {},
   "source": [
    "參考資料：\n",
    "- [Python Control Systems Library](https://python-control.readthedocs.io/en/0.8.2/) / [Python Control User’s Manual](http://python-control.sourceforge.net/manual/)\n",
    "- [GitHub: python-control/python-control](https://github.com/python-control/python-control) / [GitHub: jgoppert/Slycot](https://github.com/jgoppert/Slycot)\n",
    "- [Python for control purposes - Roberto Bucher - SUPSI](http://robertobucher.dti.supsi.ch/wp-content/uploads/2017/03/BookPythonForControl.pdf)"
   ]
  },
  {
   "cell_type": "markdown",
   "metadata": {},
   "source": [
    "## Installation： 安裝 Control Systems library 和 Slycot 套件\n",
    "\n",
    "To install both the Control Systems library and Slycot in an existing conda environment, run:"
   ]
  },
  {
   "cell_type": "markdown",
   "metadata": {},
   "source": [
    "conda install -c conda-forge control slycot"
   ]
  },
  {
   "cell_type": "markdown",
   "metadata": {},
   "source": [
    "## 串聯、並聯及回饋(閉迴路)轉移函數\n",
    "- Python for control purposes: 3.12 Models interconnection\n",
    "\n",
    "從 control 模組匯入所有方法"
   ]
  },
  {
   "cell_type": "code",
   "execution_count": 1,
   "metadata": {},
   "outputs": [],
   "source": [
    "from control import *"
   ]
  },
  {
   "cell_type": "markdown",
   "metadata": {},
   "source": [
    "定義轉移函數"
   ]
  },
  {
   "cell_type": "code",
   "execution_count": 2,
   "metadata": {},
   "outputs": [
    {
     "data": {
      "text/latex": [
       "$$\\frac{10}{s^2 + 2 s + 10}$$"
      ],
      "text/plain": [
       "\n",
       "      10\n",
       "--------------\n",
       "s^2 + 2 s + 10"
      ]
     },
     "execution_count": 2,
     "metadata": {},
     "output_type": "execute_result"
    }
   ],
   "source": [
    "g1 = tf(10,[1,2,10])\n",
    "g1"
   ]
  },
  {
   "cell_type": "code",
   "execution_count": 3,
   "metadata": {},
   "outputs": [
    {
     "data": {
      "text/latex": [
       "$$\\frac{5}{s + 5}$$"
      ],
      "text/plain": [
       "\n",
       "  5\n",
       "-----\n",
       "s + 5"
      ]
     },
     "execution_count": 3,
     "metadata": {},
     "output_type": "execute_result"
    }
   ],
   "source": [
    "g2 = tf(5,[1,5])\n",
    "g2"
   ]
  },
  {
   "cell_type": "markdown",
   "metadata": {},
   "source": [
    "### 串聯(Series)： $G_1 + G_2$"
   ]
  },
  {
   "cell_type": "code",
   "execution_count": 4,
   "metadata": {},
   "outputs": [
    {
     "data": {
      "text/latex": [
       "$$\\frac{50}{s^3 + 7 s^2 + 20 s + 50}$$"
      ],
      "text/plain": [
       "\n",
       "          50\n",
       "-----------------------\n",
       "s^3 + 7 s^2 + 20 s + 50"
      ]
     },
     "execution_count": 4,
     "metadata": {},
     "output_type": "execute_result"
    }
   ],
   "source": [
    "series(g1,g2)"
   ]
  },
  {
   "cell_type": "code",
   "execution_count": 5,
   "metadata": {},
   "outputs": [
    {
     "data": {
      "text/latex": [
       "$$\\frac{50}{s^3 + 7 s^2 + 20 s + 50}$$"
      ],
      "text/plain": [
       "\n",
       "          50\n",
       "-----------------------\n",
       "s^3 + 7 s^2 + 20 s + 50"
      ]
     },
     "execution_count": 5,
     "metadata": {},
     "output_type": "execute_result"
    }
   ],
   "source": [
    "g1*g2"
   ]
  },
  {
   "cell_type": "markdown",
   "metadata": {},
   "source": [
    "### 並聯(Parallel)： $G_1 * G_2$"
   ]
  },
  {
   "cell_type": "code",
   "execution_count": 6,
   "metadata": {},
   "outputs": [
    {
     "data": {
      "text/latex": [
       "$$\\frac{5 s^2 + 20 s + 100}{s^3 + 7 s^2 + 20 s + 50}$$"
      ],
      "text/plain": [
       "\n",
       "  5 s^2 + 20 s + 100\n",
       "-----------------------\n",
       "s^3 + 7 s^2 + 20 s + 50"
      ]
     },
     "execution_count": 6,
     "metadata": {},
     "output_type": "execute_result"
    }
   ],
   "source": [
    "parallel(g1,g2)"
   ]
  },
  {
   "cell_type": "code",
   "execution_count": 7,
   "metadata": {},
   "outputs": [
    {
     "data": {
      "text/latex": [
       "$$\\frac{5 s^2 + 20 s + 100}{s^3 + 7 s^2 + 20 s + 50}$$"
      ],
      "text/plain": [
       "\n",
       "  5 s^2 + 20 s + 100\n",
       "-----------------------\n",
       "s^3 + 7 s^2 + 20 s + 50"
      ]
     },
     "execution_count": 7,
     "metadata": {},
     "output_type": "execute_result"
    }
   ],
   "source": [
    "g1+g2"
   ]
  },
  {
   "cell_type": "markdown",
   "metadata": {},
   "source": [
    "### 回授(Feedback)：正回授 ==> $\\frac{G}{1+GH}$， 負回授 ==> $\\frac{G}{1-GH}$"
   ]
  },
  {
   "cell_type": "code",
   "execution_count": 8,
   "metadata": {},
   "outputs": [
    {
     "data": {
      "text/latex": [
       "$$\\frac{10 s + 50}{s^3 + 7 s^2 + 20 s + 100}$$"
      ],
      "text/plain": [
       "\n",
       "        10 s + 50\n",
       "------------------------\n",
       "s^3 + 7 s^2 + 20 s + 100"
      ]
     },
     "execution_count": 8,
     "metadata": {},
     "output_type": "execute_result"
    }
   ],
   "source": [
    "feedback(g1,g2)"
   ]
  },
  {
   "cell_type": "code",
   "execution_count": null,
   "metadata": {},
   "outputs": [],
   "source": []
  }
 ],
 "metadata": {
  "kernelspec": {
   "display_name": "Python 3",
   "language": "python",
   "name": "python3"
  },
  "language_info": {
   "codemirror_mode": {
    "name": "ipython",
    "version": 3
   },
   "file_extension": ".py",
   "mimetype": "text/x-python",
   "name": "python",
   "nbconvert_exporter": "python",
   "pygments_lexer": "ipython3",
   "version": "3.7.6"
  }
 },
 "nbformat": 4,
 "nbformat_minor": 4
}
